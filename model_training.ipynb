{
  "cells": [
    {
      "cell_type": "code",
      "execution_count": null,
      "metadata": {
        "id": "Vp52ACMBd7EA"
      },
      "outputs": [],
      "source": [
        "import pandas as pd\n",
        "import numpy as np\n",
        "import joblib\n",
        "from sklearn.model_selection import train_test_split\n",
        "from sklearn.model_selection import RandomizedSearchCV\n",
        "from sklearn.ensemble import RandomForestRegressor\n",
        "from sklearn.multioutput import MultiOutputRegressor\n",
        "from sklearn.metrics import mean_squared_error, accuracy_score, mean_absolute_error"
      ]
    },
    {
      "cell_type": "code",
      "execution_count": null,
      "metadata": {
        "id": "hVdDFfT6efY7"
      },
      "outputs": [],
      "source": [
        "df = pd.read_csv('data/football_matches_dataset_v2.csv')"
      ]
    },
    {
      "cell_type": "code",
      "execution_count": null,
      "metadata": {
        "colab": {
          "base_uri": "https://localhost:8080/",
          "height": 356
        },
        "id": "wLM9kWbAtV4b",
        "outputId": "1ac8dab5-6147-4fb6-9c2b-6f181d7734de"
      },
      "outputs": [],
      "source": [
        "X = df[['home_team_avg_rating', 'away_team_avg_rating']]\n",
        "y = df[['home_team_score', 'away_team_score']]\n",
        "X_train, X_test, y_train, y_test = train_test_split(X, y, test_size=0.2, random_state=42)"
      ]
    },
    {
      "cell_type": "markdown",
      "metadata": {
        "id": "U73Rro7Vfk6V"
      },
      "source": [
        "## **1.4 Model Training Stage**"
      ]
    },
    {
      "cell_type": "code",
      "execution_count": null,
      "metadata": {
        "id": "eIlzhiDufJ5x"
      },
      "outputs": [],
      "source": [
        "param_dist = {\n",
        "    'estimator__n_estimators': [50, 100, 200],\n",
        "    'estimator__max_features': ['auto', 'sqrt', 'log2'],\n",
        "    'estimator__max_depth': [None, 10, 20, 30],\n",
        "    'estimator__min_samples_split': [2, 5, 10],\n",
        "    'estimator__min_samples_leaf': [1, 2, 4]\n",
        "}\n",
        "rf = RandomForestRegressor(random_state=42)\n",
        "multi_output_rf = MultiOutputRegressor(rf)\n",
        "\n",
        "# ========= randomizedSearchCV ============ #\n",
        "random_search = RandomizedSearchCV(multi_output_rf, param_distributions=param_dist, n_iter=100, cv=5, verbose=2, random_state=42, n_jobs=-1)\n",
        "\n",
        "random_search.fit(X_train, y_train)\n",
        "\n",
        "best_params = random_search.best_params_\n",
        "print(\"Best parameters found: \", best_params)\n",
        "model = random_search.best_estimator_\n",
        "y_pred= model.predict(X_test)\n",
        "y_pred = np.round(y_pred)\n",
        "\n",
        "mae_best = mean_absolute_error(y_test, y_pred)\n",
        "mse_best = mean_squared_error(y_test, y_pred)\n",
        "rmse_best = np.sqrt(mse_best)\n",
        "\n",
        "# ========== evaluation metrics ==============#\n",
        "print(\"Mean Absolute Error:\", mae_best)\n",
        "print(\"Mean Squared Error:\", mse_best)\n",
        "print(\"Root Mean Squared Error:\", rmse_best)"
      ]
    },
    {
      "cell_type": "code",
      "execution_count": null,
      "metadata": {
        "id": "n67ir3_6fVvN"
      },
      "outputs": [],
      "source": [
        "joblib.dump(model, 'model/football_goals_prediction_model.pkl')"
      ]
    }
  ],
  "metadata": {
    "accelerator": "GPU",
    "colab": {
      "gpuType": "T4",
      "provenance": []
    },
    "kernelspec": {
      "display_name": "Python 3",
      "name": "python3"
    },
    "language_info": {
      "codemirror_mode": {
        "name": "ipython",
        "version": 3
      },
      "file_extension": ".py",
      "mimetype": "text/x-python",
      "name": "python",
      "nbconvert_exporter": "python",
      "pygments_lexer": "ipython3",
      "version": "3.11.9"
    }
  },
  "nbformat": 4,
  "nbformat_minor": 0
}
