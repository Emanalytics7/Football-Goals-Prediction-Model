{
  "cells": [
    {
      "cell_type": "markdown",
      "metadata": {
        "id": "ny8rba3m-wJI"
      },
      "source": [
        "# **Football Goals Prediction Model**"
      ]
    },
    {
      "cell_type": "code",
      "execution_count": 1,
      "metadata": {
        "colab": {
          "base_uri": "https://localhost:8080/"
        },
        "id": "G4zDeAj1G-RC",
        "outputId": "95ec05b7-889d-4eea-a324-88dd70f54e5e"
      },
      "outputs": [],
      "source": [
        "!pip install -q unidecode\n",
        "!pip install -q rapidfuzz pandas "
      ]
    },
    {
      "cell_type": "code",
      "execution_count": 2,
      "metadata": {
        "id": "eZFYZwqw-qLF"
      },
      "outputs": [],
      "source": [
        "import pandas as pd\n",
        "import json, unidecode, ast, unicodedata\n",
        "from rapidfuzz import process, fuzz\n",
        "from functools import lru_cache"
      ]
    },
    {
      "cell_type": "markdown",
      "metadata": {
        "id": "9OnE5Ola_Pjc"
      },
      "source": [
        "## **1.1 Data Preprocessing Stage**"
      ]
    },
    {
      "cell_type": "markdown",
      "metadata": {
        "id": "XG0vC9Nj_ihf"
      },
      "source": [
        "* Datasets we've : `clubs_team_players_v1.json`, `national_team_players_v1.json` `matches_v1.json` and `players_rating_v1.csv`\n",
        "\n",
        "* First, we need to map the players along with their team in the `matches_v1.json`"
      ]
    },
    {
      "cell_type": "code",
      "execution_count": 44,
      "metadata": {
        "id": "1gx_vhpfAD9A"
      },
      "outputs": [],
      "source": [
        "clubs = pd.read_csv('data/clubs_team_players_v1.csv')\n",
        "national = pd.read_csv('data/national_team_players_v1.csv')\n",
        "with open('data/matches_v1.json', 'r', encoding='utf-8') as f:\n",
        "    matches_data = json.load(f)\n",
        "ratings = pd.read_csv('data/players_rating_v1.csv')"
      ]
    },
    {
      "cell_type": "code",
      "execution_count": 35,
      "metadata": {
        "colab": {
          "base_uri": "https://localhost:8080/"
        },
        "id": "CAlD2yRRIQDE",
        "outputId": "8353c453-4824-46b8-8eed-7ba1b75a215f"
      },
      "outputs": [
        {
          "name": "stdout",
          "output_type": "stream",
          "text": [
            "<class 'pandas.core.frame.DataFrame'>\n",
            "RangeIndex: 194 entries, 0 to 193\n",
            "Data columns (total 2 columns):\n",
            " #   Column   Non-Null Count  Dtype \n",
            "---  ------   --------------  ----- \n",
            " 0   team     194 non-null    object\n",
            " 1   players  194 non-null    object\n",
            "dtypes: object(2)\n",
            "memory usage: 3.2+ KB\n"
          ]
        }
      ],
      "source": [
        "clubs.info()"
      ]
    },
    {
      "cell_type": "code",
      "execution_count": 53,
      "metadata": {
        "id": "rY-PloYK-8U9"
      },
      "outputs": [],
      "source": [
        "def normalize_team_name(name):\n",
        "    return unidecode.unidecode(name).strip().lower()\n",
        "\n",
        "def fix_players_list(player_list):\n",
        "    try:\n",
        "        return ast.literal_eval(player_list)\n",
        "    except SyntaxError:\n",
        "        player_list = player_list.strip('[]')\n",
        "        player_list = player_list.split(', ')\n",
        "        player_list = [f'\"{player}\"' for player in player_list]\n",
        "        player_list = f'[{\", \".join(player_list)}]'\n",
        "        return ast.literal_eval(player_list)\n",
        "\n",
        "def normalize_text(text):\n",
        "    text = text.lower().strip()\n",
        "    text = ''.join(c for c in unicodedata.normalize('NFD', text) if unicodedata.category(c) != 'Mn')\n",
        "    return text"
      ]
    },
    {
      "cell_type": "code",
      "execution_count": 38,
      "metadata": {
        "colab": {
          "base_uri": "https://localhost:8080/"
        },
        "id": "8CQwarjJEiNW",
        "outputId": "d3cbec30-7137-446b-ef38-5466d762f12e"
      },
      "outputs": [
        {
          "data": {
            "text/plain": [
              "('bsc young boys',\n",
              " ['Meschack Elia',\n",
              "  'Aurèle Amenda',\n",
              "  'Filip Ugrinic',\n",
              "  'Kastriot Imeri',\n",
              "  'Joel Mvuka',\n",
              "  'Darian Males',\n",
              "  'Mohamed Camara',\n",
              "  'Cheikh Niasse',\n",
              "  'Cedric Itten',\n",
              "  'Joël Monteiro',\n",
              "  'Ebrima Colley'])"
            ]
          },
          "execution_count": 38,
          "metadata": {},
          "output_type": "execute_result"
        }
      ],
      "source": [
        "for match in matches_data:\n",
        "    match['home_team'] = normalize_team_name(match['home_team'])\n",
        "    match['away_team'] = normalize_team_name(match['away_team'])\n",
        "\n",
        "clubs['team'] = clubs['team'].apply(normalize_team_name)\n",
        "national['team'] = national['team'].apply(normalize_team_name)\n",
        "\n",
        "clubs_team_to_players = {row['team']: fix_players_list(row['players']) for index, row in clubs.iterrows()}\n",
        "national_team_to_playes = {row['team']: fix_players_list(row['players']) for index, row in national.iterrows()}\n",
        "team_to_players = {**clubs_team_to_players, **national_team_to_playes}\n",
        "\n",
        "list(team_to_players.items())[0] # lets see the first item in the dict"
      ]
    },
    {
      "cell_type": "code",
      "execution_count": 39,
      "metadata": {
        "colab": {
          "base_uri": "https://localhost:8080/"
        },
        "id": "kpk0k39SBxY8",
        "outputId": "820533ad-1734-440a-fac2-c3b423660f2d"
      },
      "outputs": [
        {
          "name": "stdout",
          "output_type": "stream",
          "text": [
            "{'home_team': 'netherlands', 'away_team': 'spain', 'home_team_score': 0, 'away_team_score': 0, 'match_type': 'country', 'home_team_p1': 'Xavi Simons', 'home_team_p2': 'Frenkie de Jong', 'home_team_p3': 'Matthijs de Ligt', 'home_team_p4': 'Cody Gakpo', 'home_team_p5': 'Jeremie Frimpong', 'home_team_p6': 'Micky van de Ven', 'home_team_p7': 'Nathan Aké', 'home_team_p8': 'Donyell Malen', 'home_team_p9': 'Teun Koopmeiners', 'home_team_p10': 'Ryan Gravenberch', 'home_team_p11': 'Virgil van Dijk', 'away_team_p1': 'Rodri', 'away_team_p2': 'Lamine Yamal', 'away_team_p3': 'Dani Olmo', 'away_team_p4': 'Mikel Merino', 'away_team_p5': 'Mikel Oyarzabal', 'away_team_p6': 'Martín Zubimendi', 'away_team_p7': 'Nico Williams', 'away_team_p8': 'Alejandro Grimaldo', 'away_team_p9': 'Pedro Porro', 'away_team_p10': 'Robin Le Normand', 'away_team_p11': 'David Raya'}\n",
            "{'home_team': 'atletico de madrid', 'away_team': 'inter milan', 'home_team_score': 5, 'away_team_score': 5, 'match_type': 'club', 'home_team_p1': 'Nahuel Molina', 'home_team_p2': 'Jan Oblak', 'home_team_p3': 'Rodrigo de Paul', 'home_team_p4': 'Marcos Llorente', 'home_team_p5': 'Arthur Vermeeren', 'home_team_p6': 'Antoine Griezmann', 'home_team_p7': 'José María Giménez', 'home_team_p8': 'Mario Hermoso', 'home_team_p9': 'Rodrigo Riquelme', 'home_team_p10': 'Samuel Lino', 'home_team_p11': 'Pablo Barrios', 'away_team_p1': 'Lautaro Martínez', 'away_team_p2': 'Nicolò Barella', 'away_team_p3': 'Alessandro Bastoni', 'away_team_p4': 'Marcus Thuram', 'away_team_p5': 'Federico Dimarco', 'away_team_p6': 'Benjamin Pavard', 'away_team_p7': 'Hakan Çalhanoğlu', 'away_team_p8': 'Davide Frattesi', 'away_team_p9': 'Denzel Dumfries', 'away_team_p10': 'Carlos Augusto', 'away_team_p11': 'Kristjan Asllani'}\n"
          ]
        }
      ],
      "source": [
        "for match in matches_data:\n",
        "    match['home_team'] = normalize_team_name(match['home_team'])\n",
        "    match['away_team'] = normalize_team_name(match['away_team'])\n",
        "\n",
        "\n",
        "for match in matches_data:\n",
        "    home_team = match['home_team']\n",
        "    away_team = match['away_team']\n",
        "\n",
        "    ### assigning players to the home team & away team ###\n",
        "    if home_team in team_to_players:\n",
        "        for i in range(1, min(12, len(team_to_players[home_team]) + 1)):\n",
        "            match[f'home_team_p{i}'] = team_to_players[home_team][i-1]\n",
        "\n",
        "    if away_team in team_to_players:\n",
        "        for i in range(1, min(12, len(team_to_players[away_team]) + 1)):\n",
        "            match[f'away_team_p{i}'] = team_to_players[away_team][i-1]\n",
        "with open(\"data/matches_with_players.json\", \"w\", encoding='utf-8') as file:\n",
        "    json.dump(matches_data, file, ensure_ascii=False, indent=4)\n",
        "\n",
        "##=======================================##\n",
        "print(matches_data[-1])\n",
        "print(matches_data[0])"
      ]
    },
    {
      "cell_type": "code",
      "execution_count": 61,
      "metadata": {
        "id": "e0iJscqXBxVu"
      },
      "outputs": [],
      "source": [
        "with open('data/matches_with_players.json', 'r', encoding='utf-8') as file:\n",
        "    matches = json.load(file)"
      ]
    },
    {
      "cell_type": "markdown",
      "metadata": {
        "id": "FGTHluasI-lg"
      },
      "source": [
        "Awesome! Now let's get the player ratings.\n",
        "- First we have to normalize the names of players in both datasets\n",
        "- Then we will use fuzzy matching so in this way we can map the names and their corresponding ratings"
      ]
    },
    {
      "cell_type": "code",
      "execution_count": 48,
      "metadata": {
        "id": "VSY1ImOWBxRG"
      },
      "outputs": [],
      "source": [
        "ratings['name'] = ratings['name'].apply(normalize_text)\n",
        "ratings['full_name'] = ratings['full_name'].apply(normalize_text)"
      ]
    },
    {
      "cell_type": "code",
      "execution_count": 49,
      "metadata": {
        "id": "AyOXNYw1BxGX"
      },
      "outputs": [],
      "source": [
        "name_to_rating = pd.Series(ratings.overall_rating.values, index=ratings.name).to_dict()\n",
        "fullname_to_rating = pd.Series(ratings.overall_rating.values, index=ratings.full_name).to_dict()"
      ]
    },
    {
      "cell_type": "code",
      "execution_count": 62,
      "metadata": {
        "id": "wsAErBp0Qi8q"
      },
      "outputs": [],
      "source": [
        "for match in matches:\n",
        "  for i in range(1, 12):\n",
        "    if f'home_team_p{i}' in match:\n",
        "      match[f'home_team_p{i}'] = normalize_text(match[f'home_team_p{i}'])\n",
        "      if f'away_team_p{i}' in match:\n",
        "        match[f'away_team_p{i}'] = normalize_text(match[f'away_team_p{i}'])"
      ]
    },
    {
      "cell_type": "code",
      "execution_count": 63,
      "metadata": {
        "colab": {
          "base_uri": "https://localhost:8080/"
        },
        "id": "H25Y6S3YRLQe",
        "outputId": "1651fe33-c38b-45f9-9c7f-10c1b5c910ae"
      },
      "outputs": [
        {
          "name": "stdout",
          "output_type": "stream",
          "text": [
            "{'home_team': 'atletico de madrid', 'away_team': 'inter milan', 'home_team_score': 5, 'away_team_score': 5, 'match_type': 'club', 'home_team_p1': 'nahuel molina', 'home_team_p2': 'jan oblak', 'home_team_p3': 'rodrigo de paul', 'home_team_p4': 'marcos llorente', 'home_team_p5': 'arthur vermeeren', 'home_team_p6': 'antoine griezmann', 'home_team_p7': 'jose maria gimenez', 'home_team_p8': 'mario hermoso', 'home_team_p9': 'rodrigo riquelme', 'home_team_p10': 'samuel lino', 'home_team_p11': 'pablo barrios', 'away_team_p1': 'lautaro martinez', 'away_team_p2': 'nicolo barella', 'away_team_p3': 'alessandro bastoni', 'away_team_p4': 'marcus thuram', 'away_team_p5': 'federico dimarco', 'away_team_p6': 'benjamin pavard', 'away_team_p7': 'hakan calhanoglu', 'away_team_p8': 'davide frattesi', 'away_team_p9': 'denzel dumfries', 'away_team_p10': 'carlos augusto', 'away_team_p11': 'kristjan asllani', 'home_team_p1_rating': 66, 'away_team_p1_rating': 79, 'home_team_p2_rating': 90, 'away_team_p2_rating': 78, 'home_team_p3_rating': 77, 'away_team_p3_rating': 69, 'home_team_p4_rating': 79, 'away_team_p4_rating': 75, 'home_team_p5_rating': 82, 'away_team_p5_rating': 64, 'home_team_p6_rating': 89, 'away_team_p6_rating': 79, 'home_team_p7_rating': 70, 'away_team_p7_rating': 80, 'home_team_p8_rating': 77, 'away_team_p8_rating': 66, 'home_team_p9_rating': 70, 'away_team_p9_rating': 76, 'home_team_p10_rating': 62, 'away_team_p10_rating': 66, 'home_team_p11_rating': 77}\n",
            "{'home_team': 'netherlands', 'away_team': 'spain', 'home_team_score': 0, 'away_team_score': 0, 'match_type': 'country', 'home_team_p1': 'xavi simons', 'home_team_p2': 'frenkie de jong', 'home_team_p3': 'matthijs de ligt', 'home_team_p4': 'cody gakpo', 'home_team_p5': 'jeremie frimpong', 'home_team_p6': 'micky van de ven', 'home_team_p7': 'nathan ake', 'home_team_p8': 'donyell malen', 'home_team_p9': 'teun koopmeiners', 'home_team_p10': 'ryan gravenberch', 'home_team_p11': 'virgil van dijk', 'away_team_p1': 'rodri', 'away_team_p2': 'lamine yamal', 'away_team_p3': 'dani olmo', 'away_team_p4': 'mikel merino', 'away_team_p5': 'mikel oyarzabal', 'away_team_p6': 'martin zubimendi', 'away_team_p7': 'nico williams', 'away_team_p8': 'alejandro grimaldo', 'away_team_p9': 'pedro porro', 'away_team_p10': 'robin le normand', 'away_team_p11': 'david raya', 'away_team_p1_rating': 70, 'home_team_p2_rating': 82, 'home_team_p3_rating': 83, 'away_team_p3_rating': 76, 'away_team_p4_rating': 75, 'away_team_p5_rating': 80, 'away_team_p6_rating': 75, 'home_team_p7_rating': 80, 'away_team_p7_rating': 74, 'home_team_p8_rating': 72, 'away_team_p8_rating': 82, 'home_team_p9_rating': 74, 'away_team_p9_rating': 72, 'away_team_p10_rating': 67, 'home_team_p11_rating': 88, 'away_team_p11_rating': 71}\n"
          ]
        }
      ],
      "source": [
        "@lru_cache(maxsize=None)\n",
        "def get_ratings(player_name):\n",
        "    best_match = process.extractOne(player_name, name_to_rating.keys(), scorer=fuzz.WRatio, score_cutoff=90)\n",
        "    best_full_match = process.extractOne(player_name, fullname_to_rating.keys(), scorer=fuzz.WRatio, score_cutoff=90)\n",
        "    if best_match and best_full_match:\n",
        "        if best_match[1] >= best_full_match[1]:\n",
        "            return name_to_rating[best_match[0]]\n",
        "        else:\n",
        "            return fullname_to_rating[best_full_match[0]]\n",
        "    elif best_match:\n",
        "        return name_to_rating[best_match[0]]\n",
        "    elif best_full_match:\n",
        "        return fullname_to_rating[best_full_match[0]]\n",
        "    return None\n",
        "\n",
        "def process_match(match):\n",
        "    for i in range(1, 12):\n",
        "        home_player_key = f'home_team_p{i}'\n",
        "        away_player_key = f'away_team_p{i}'\n",
        "        if home_player_key in match:\n",
        "            rating = get_ratings(match[home_player_key])\n",
        "            if rating:\n",
        "                match[f'{home_player_key}_rating'] = rating\n",
        "        if away_player_key in match:\n",
        "            rating = get_ratings(match[away_player_key])\n",
        "            if rating:\n",
        "                match[f'{away_player_key}_rating'] = rating\n",
        "    return match\n",
        "matches = [process_match(match) for match in matches]\n",
        "with open('football_matches_dataset_v1.json', 'w', encoding='utf-8') as file:\n",
        "    json.dump(matches, file, ensure_ascii=False, indent=4)\n",
        "\n",
        "print(matches[0])\n",
        "print(matches[-1])"
      ]
    },
    {
      "cell_type": "markdown",
      "metadata": {
        "id": "98_spv0ATYf7"
      },
      "source": [
        "## **1.2 Data Cleaning Stage**"
      ]
    },
    {
      "cell_type": "markdown",
      "metadata": {
        "id": "cl18ezNfa6jD"
      },
      "source": [
        "We will clean our data using this strategy:\n",
        " 1. Handling missing values by imputing the mean rating for missing player ratings.\n",
        "\n",
        "\n",
        "\n",
        "\n",
        "\n",
        "\n"
      ]
    },
    {
      "cell_type": "code",
      "execution_count": 4,
      "metadata": {
        "colab": {
          "base_uri": "https://localhost:8080/",
          "height": 342
        },
        "id": "Yo-pwNItTYJ8",
        "outputId": "75d78c9d-3f7e-4b71-ee74-52ad1db58b3d"
      },
      "outputs": [
        {
          "data": {
            "text/html": [
              "<div>\n",
              "<style scoped>\n",
              "    .dataframe tbody tr th:only-of-type {\n",
              "        vertical-align: middle;\n",
              "    }\n",
              "\n",
              "    .dataframe tbody tr th {\n",
              "        vertical-align: top;\n",
              "    }\n",
              "\n",
              "    .dataframe thead th {\n",
              "        text-align: right;\n",
              "    }\n",
              "</style>\n",
              "<table border=\"1\" class=\"dataframe\">\n",
              "  <thead>\n",
              "    <tr style=\"text-align: right;\">\n",
              "      <th></th>\n",
              "      <th>home_team</th>\n",
              "      <th>away_team</th>\n",
              "      <th>home_team_score</th>\n",
              "      <th>away_team_score</th>\n",
              "      <th>match_type</th>\n",
              "      <th>home_team_p1</th>\n",
              "      <th>home_team_p2</th>\n",
              "      <th>home_team_p3</th>\n",
              "      <th>home_team_p4</th>\n",
              "      <th>home_team_p5</th>\n",
              "      <th>...</th>\n",
              "      <th>home_team_p7_rating</th>\n",
              "      <th>away_team_p7_rating</th>\n",
              "      <th>home_team_p8_rating</th>\n",
              "      <th>away_team_p8_rating</th>\n",
              "      <th>home_team_p9_rating</th>\n",
              "      <th>away_team_p9_rating</th>\n",
              "      <th>home_team_p10_rating</th>\n",
              "      <th>away_team_p10_rating</th>\n",
              "      <th>home_team_p11_rating</th>\n",
              "      <th>away_team_p11_rating</th>\n",
              "    </tr>\n",
              "  </thead>\n",
              "  <tbody>\n",
              "    <tr>\n",
              "      <th>0</th>\n",
              "      <td>atletico de madrid</td>\n",
              "      <td>inter milan</td>\n",
              "      <td>5.0</td>\n",
              "      <td>5.0</td>\n",
              "      <td>club</td>\n",
              "      <td>nahuel molina</td>\n",
              "      <td>jan oblak</td>\n",
              "      <td>rodrigo de paul</td>\n",
              "      <td>marcos llorente</td>\n",
              "      <td>arthur vermeeren</td>\n",
              "      <td>...</td>\n",
              "      <td>70.0</td>\n",
              "      <td>80.0</td>\n",
              "      <td>77.0</td>\n",
              "      <td>66.0</td>\n",
              "      <td>70.0</td>\n",
              "      <td>76.0</td>\n",
              "      <td>62.0</td>\n",
              "      <td>66.0</td>\n",
              "      <td>77.0</td>\n",
              "      <td>NaN</td>\n",
              "    </tr>\n",
              "    <tr>\n",
              "      <th>1</th>\n",
              "      <td>borussia dortmund</td>\n",
              "      <td>psv eindhoven</td>\n",
              "      <td>2.0</td>\n",
              "      <td>2.0</td>\n",
              "      <td>club</td>\n",
              "      <td>julian brandt</td>\n",
              "      <td>gregor kobel</td>\n",
              "      <td>donyell malen</td>\n",
              "      <td>nico schlotterbeck</td>\n",
              "      <td>ian maatsen</td>\n",
              "      <td>...</td>\n",
              "      <td>NaN</td>\n",
              "      <td>NaN</td>\n",
              "      <td>79.0</td>\n",
              "      <td>54.0</td>\n",
              "      <td>62.0</td>\n",
              "      <td>NaN</td>\n",
              "      <td>NaN</td>\n",
              "      <td>63.0</td>\n",
              "      <td>84.0</td>\n",
              "      <td>NaN</td>\n",
              "    </tr>\n",
              "    <tr>\n",
              "      <th>2</th>\n",
              "      <td>fc barcelona</td>\n",
              "      <td>ssc napoli</td>\n",
              "      <td>3.0</td>\n",
              "      <td>3.0</td>\n",
              "      <td>club</td>\n",
              "      <td>gavi</td>\n",
              "      <td>pedri</td>\n",
              "      <td>lamine yamal</td>\n",
              "      <td>frenkie de jong</td>\n",
              "      <td>ronald araujo</td>\n",
              "      <td>...</td>\n",
              "      <td>75.0</td>\n",
              "      <td>52.0</td>\n",
              "      <td>80.0</td>\n",
              "      <td>69.0</td>\n",
              "      <td>61.0</td>\n",
              "      <td>73.0</td>\n",
              "      <td>NaN</td>\n",
              "      <td>65.0</td>\n",
              "      <td>73.0</td>\n",
              "      <td>70.0</td>\n",
              "    </tr>\n",
              "    <tr>\n",
              "      <th>3</th>\n",
              "      <td>arsenal fc</td>\n",
              "      <td>fc porto</td>\n",
              "      <td>4.0</td>\n",
              "      <td>4.0</td>\n",
              "      <td>club</td>\n",
              "      <td>bukayo saka</td>\n",
              "      <td>declan rice</td>\n",
              "      <td>martin ødegaard</td>\n",
              "      <td>william saliba</td>\n",
              "      <td>gabriel martinelli</td>\n",
              "      <td>...</td>\n",
              "      <td>78.0</td>\n",
              "      <td>87.0</td>\n",
              "      <td>81.0</td>\n",
              "      <td>73.0</td>\n",
              "      <td>61.0</td>\n",
              "      <td>NaN</td>\n",
              "      <td>74.0</td>\n",
              "      <td>79.0</td>\n",
              "      <td>NaN</td>\n",
              "      <td>61.0</td>\n",
              "    </tr>\n",
              "    <tr>\n",
              "      <th>4</th>\n",
              "      <td>real madrid</td>\n",
              "      <td>rb leipzig</td>\n",
              "      <td>1.0</td>\n",
              "      <td>1.0</td>\n",
              "      <td>club</td>\n",
              "      <td>jude bellingham</td>\n",
              "      <td>vinicius junior</td>\n",
              "      <td>federico valverde</td>\n",
              "      <td>rodrygo</td>\n",
              "      <td>aurelien tchouameni</td>\n",
              "      <td>...</td>\n",
              "      <td>79.0</td>\n",
              "      <td>76.0</td>\n",
              "      <td>69.0</td>\n",
              "      <td>70.0</td>\n",
              "      <td>89.0</td>\n",
              "      <td>76.0</td>\n",
              "      <td>63.0</td>\n",
              "      <td>60.0</td>\n",
              "      <td>82.0</td>\n",
              "      <td>66.0</td>\n",
              "    </tr>\n",
              "  </tbody>\n",
              "</table>\n",
              "<p>5 rows × 49 columns</p>\n",
              "</div>"
            ],
            "text/plain": [
              "            home_team      away_team  home_team_score  away_team_score  \\\n",
              "0  atletico de madrid    inter milan              5.0              5.0   \n",
              "1   borussia dortmund  psv eindhoven              2.0              2.0   \n",
              "2        fc barcelona     ssc napoli              3.0              3.0   \n",
              "3          arsenal fc       fc porto              4.0              4.0   \n",
              "4         real madrid     rb leipzig              1.0              1.0   \n",
              "\n",
              "  match_type     home_team_p1     home_team_p2       home_team_p3  \\\n",
              "0       club    nahuel molina        jan oblak    rodrigo de paul   \n",
              "1       club    julian brandt     gregor kobel      donyell malen   \n",
              "2       club             gavi            pedri       lamine yamal   \n",
              "3       club      bukayo saka      declan rice    martin ødegaard   \n",
              "4       club  jude bellingham  vinicius junior  federico valverde   \n",
              "\n",
              "         home_team_p4         home_team_p5  ... home_team_p7_rating  \\\n",
              "0     marcos llorente     arthur vermeeren  ...                70.0   \n",
              "1  nico schlotterbeck          ian maatsen  ...                 NaN   \n",
              "2     frenkie de jong        ronald araujo  ...                75.0   \n",
              "3      william saliba   gabriel martinelli  ...                78.0   \n",
              "4             rodrygo  aurelien tchouameni  ...                79.0   \n",
              "\n",
              "  away_team_p7_rating home_team_p8_rating away_team_p8_rating  \\\n",
              "0                80.0                77.0                66.0   \n",
              "1                 NaN                79.0                54.0   \n",
              "2                52.0                80.0                69.0   \n",
              "3                87.0                81.0                73.0   \n",
              "4                76.0                69.0                70.0   \n",
              "\n",
              "  home_team_p9_rating away_team_p9_rating home_team_p10_rating  \\\n",
              "0                70.0                76.0                 62.0   \n",
              "1                62.0                 NaN                  NaN   \n",
              "2                61.0                73.0                  NaN   \n",
              "3                61.0                 NaN                 74.0   \n",
              "4                89.0                76.0                 63.0   \n",
              "\n",
              "  away_team_p10_rating home_team_p11_rating away_team_p11_rating  \n",
              "0                 66.0                 77.0                  NaN  \n",
              "1                 63.0                 84.0                  NaN  \n",
              "2                 65.0                 73.0                 70.0  \n",
              "3                 79.0                  NaN                 61.0  \n",
              "4                 60.0                 82.0                 66.0  \n",
              "\n",
              "[5 rows x 49 columns]"
            ]
          },
          "execution_count": 4,
          "metadata": {},
          "output_type": "execute_result"
        }
      ],
      "source": [
        "with open('data/football_matches_dataset_v1.json', 'r', encoding='utf-8') as file:\n",
        "    data = json.load(file)\n",
        "\n",
        "df = pd.json_normalize(data)\n",
        "df.head()"
      ]
    },
    {
      "cell_type": "code",
      "execution_count": 5,
      "metadata": {},
      "outputs": [
        {
          "name": "stdout",
          "output_type": "stream",
          "text": [
            "<class 'pandas.core.frame.DataFrame'>\n",
            "RangeIndex: 1178 entries, 0 to 1177\n",
            "Data columns (total 49 columns):\n",
            " #   Column                Non-Null Count  Dtype  \n",
            "---  ------                --------------  -----  \n",
            " 0   home_team             1177 non-null   object \n",
            " 1   away_team             1177 non-null   object \n",
            " 2   home_team_score       1177 non-null   float64\n",
            " 3   away_team_score       1177 non-null   float64\n",
            " 4   match_type            1177 non-null   object \n",
            " 5   home_team_p1          1141 non-null   object \n",
            " 6   home_team_p2          1141 non-null   object \n",
            " 7   home_team_p3          1141 non-null   object \n",
            " 8   home_team_p4          1141 non-null   object \n",
            " 9   home_team_p5          1141 non-null   object \n",
            " 10  home_team_p6          1141 non-null   object \n",
            " 11  home_team_p7          1141 non-null   object \n",
            " 12  home_team_p8          1141 non-null   object \n",
            " 13  home_team_p9          1141 non-null   object \n",
            " 14  home_team_p10         1141 non-null   object \n",
            " 15  home_team_p11         1141 non-null   object \n",
            " 16  away_team_p1          1141 non-null   object \n",
            " 17  away_team_p2          1141 non-null   object \n",
            " 18  away_team_p3          1141 non-null   object \n",
            " 19  away_team_p4          1141 non-null   object \n",
            " 20  away_team_p5          1141 non-null   object \n",
            " 21  away_team_p6          1141 non-null   object \n",
            " 22  away_team_p7          1141 non-null   object \n",
            " 23  away_team_p8          1141 non-null   object \n",
            " 24  away_team_p9          1141 non-null   object \n",
            " 25  away_team_p10         1141 non-null   object \n",
            " 26  away_team_p11         1141 non-null   object \n",
            " 27  home_team_p1_rating   767 non-null    float64\n",
            " 28  away_team_p1_rating   773 non-null    float64\n",
            " 29  home_team_p2_rating   846 non-null    float64\n",
            " 30  away_team_p2_rating   854 non-null    float64\n",
            " 31  home_team_p3_rating   840 non-null    float64\n",
            " 32  away_team_p3_rating   828 non-null    float64\n",
            " 33  home_team_p4_rating   859 non-null    float64\n",
            " 34  away_team_p4_rating   846 non-null    float64\n",
            " 35  home_team_p5_rating   849 non-null    float64\n",
            " 36  away_team_p5_rating   839 non-null    float64\n",
            " 37  home_team_p6_rating   811 non-null    float64\n",
            " 38  away_team_p6_rating   803 non-null    float64\n",
            " 39  home_team_p7_rating   926 non-null    float64\n",
            " 40  away_team_p7_rating   913 non-null    float64\n",
            " 41  home_team_p8_rating   826 non-null    float64\n",
            " 42  away_team_p8_rating   797 non-null    float64\n",
            " 43  home_team_p9_rating   737 non-null    float64\n",
            " 44  away_team_p9_rating   731 non-null    float64\n",
            " 45  home_team_p10_rating  760 non-null    float64\n",
            " 46  away_team_p10_rating  759 non-null    float64\n",
            " 47  home_team_p11_rating  884 non-null    float64\n",
            " 48  away_team_p11_rating  877 non-null    float64\n",
            "dtypes: float64(24), object(25)\n",
            "memory usage: 451.1+ KB\n"
          ]
        }
      ],
      "source": [
        "df.info()"
      ]
    },
    {
      "cell_type": "code",
      "execution_count": 8,
      "metadata": {
        "id": "kUh9fX7cazDm"
      },
      "outputs": [],
      "source": [
        "def impute_missing_ratings(df):\n",
        "    rating_columns = [col for col in df.columns if 'rating' in col]\n",
        "    for col in rating_columns:\n",
        "        df[col] = df.groupby('home_team')[col].transform(lambda x: x.fillna(x.mean()))\n",
        "        df[col] = df.groupby('away_team')[col].transform(lambda x: x.fillna(x.mean()))\n",
        "\n",
        "    return df\n",
        "\n",
        "df['home_team_score'] = df['home_team_score'].fillna(0).astype(int)\n",
        "df['away_team_score'] = df['away_team_score'].fillna(0).astype(int)\n",
        "df = impute_missing_ratings(df)"
      ]
    },
    {
      "cell_type": "markdown",
      "metadata": {
        "id": "s5imaFtBb3eT"
      },
      "source": [
        "## **1.3 Feature Engineering Stage**\n",
        "\n",
        "1. team-level features by aggregating player ratings.\n",
        "\n",
        "\n"
      ]
    },
    {
      "cell_type": "code",
      "execution_count": 70,
      "metadata": {
        "id": "Dz5FVvBeb2C9"
      },
      "outputs": [],
      "source": [
        "def aggregate_team_ratings(df):\n",
        "    home_team_ratings = df.filter(like='home_team_p').filter(like='rating')\n",
        "    away_team_ratings = df.filter(like='away_team_p').filter(like='rating')\n",
        "\n",
        "    df['home_team_avg_rating'] = home_team_ratings.mean(axis=1)\n",
        "    df['away_team_avg_rating'] = away_team_ratings.mean(axis=1)\n",
        "\n",
        "    return df\n",
        "\n",
        "df = aggregate_team_ratings(df)\n",
        "df.to_csv('data/football_matches_dataset_v2.csv', index=False)"
      ]
    }
  ],
  "metadata": {
    "colab": {
      "provenance": []
    },
    "kernelspec": {
      "display_name": "Python 3",
      "name": "python3"
    },
    "language_info": {
      "codemirror_mode": {
        "name": "ipython",
        "version": 3
      },
      "file_extension": ".py",
      "mimetype": "text/x-python",
      "name": "python",
      "nbconvert_exporter": "python",
      "pygments_lexer": "ipython3",
      "version": "3.11.9"
    }
  },
  "nbformat": 4,
  "nbformat_minor": 0
}
