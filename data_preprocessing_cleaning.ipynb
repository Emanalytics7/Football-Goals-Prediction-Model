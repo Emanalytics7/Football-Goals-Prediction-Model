{
  "nbformat": 4,
  "nbformat_minor": 0,
  "metadata": {
    "colab": {
      "provenance": []
    },
    "kernelspec": {
      "name": "python3",
      "display_name": "Python 3"
    },
    "language_info": {
      "name": "python"
    }
  },
  "cells": [
    {
      "cell_type": "markdown",
      "source": [
        "# **Football Goals Prediction Model**"
      ],
      "metadata": {
        "id": "ny8rba3m-wJI"
      }
    },
    {
      "cell_type": "code",
      "source": [
        "!pip install -q unidecode\n",
        "!pip install -q rapidfuzz"
      ],
      "metadata": {
        "colab": {
          "base_uri": "https://localhost:8080/"
        },
        "id": "G4zDeAj1G-RC",
        "outputId": "95ec05b7-889d-4eea-a324-88dd70f54e5e"
      },
      "execution_count": 45,
      "outputs": [
        {
          "output_type": "stream",
          "name": "stdout",
          "text": [
            "\u001b[2K     \u001b[90m━━━━━━━━━━━━━━━━━━━━━━━━━━━━━━━━━━━━━━━━\u001b[0m \u001b[32m3.4/3.4 MB\u001b[0m \u001b[31m10.4 MB/s\u001b[0m eta \u001b[36m0:00:00\u001b[0m\n",
            "\u001b[?25h"
          ]
        }
      ]
    },
    {
      "cell_type": "code",
      "execution_count": 58,
      "metadata": {
        "id": "eZFYZwqw-qLF"
      },
      "outputs": [],
      "source": [
        "import pandas as pd, json, unidecode, ast, unicodedata\n",
        "from rapidfuzz import process, fuzz\n",
        "from functools import lru_cache"
      ]
    },
    {
      "cell_type": "markdown",
      "source": [
        "## **1.1 Data Preprocessing Stage**"
      ],
      "metadata": {
        "id": "9OnE5Ola_Pjc"
      }
    },
    {
      "cell_type": "markdown",
      "source": [
        "* Datasets we've : `clubs_team_players_v1.json`, `national_team_players_v1.json` `matches_v1.json` and `players_rating_v1.csv`\n",
        "\n",
        "* First, we need to map the players along with their team in the `matches_v1.json`"
      ],
      "metadata": {
        "id": "XG0vC9Nj_ihf"
      }
    },
    {
      "cell_type": "code",
      "source": [
        "clubs = pd.read_csv('clubs_team_players_v1.csv')\n",
        "national = pd.read_csv('national_team_players_v1.csv')\n",
        "with open('matches_v1.json', 'r', encoding='utf-8') as f:\n",
        "    matches_data = json.load(f)\n",
        "ratings = pd.read_csv('players_rating_v1.csv')"
      ],
      "metadata": {
        "id": "1gx_vhpfAD9A"
      },
      "execution_count": 44,
      "outputs": []
    },
    {
      "cell_type": "code",
      "source": [
        "clubs.info()"
      ],
      "metadata": {
        "colab": {
          "base_uri": "https://localhost:8080/"
        },
        "id": "CAlD2yRRIQDE",
        "outputId": "8353c453-4824-46b8-8eed-7ba1b75a215f"
      },
      "execution_count": 35,
      "outputs": [
        {
          "output_type": "stream",
          "name": "stdout",
          "text": [
            "<class 'pandas.core.frame.DataFrame'>\n",
            "RangeIndex: 194 entries, 0 to 193\n",
            "Data columns (total 2 columns):\n",
            " #   Column   Non-Null Count  Dtype \n",
            "---  ------   --------------  ----- \n",
            " 0   team     194 non-null    object\n",
            " 1   players  194 non-null    object\n",
            "dtypes: object(2)\n",
            "memory usage: 3.2+ KB\n"
          ]
        }
      ]
    },
    {
      "cell_type": "code",
      "source": [
        "def normalize_team_name(name):\n",
        "    return unidecode.unidecode(name).strip().lower()\n",
        "\n",
        "def fix_players_list(player_list):\n",
        "    try:\n",
        "        return ast.literal_eval(player_list)\n",
        "    except SyntaxError:\n",
        "        player_list = player_list.strip('[]')\n",
        "        player_list = player_list.split(', ')\n",
        "        player_list = [f'\"{player}\"' for player in player_list]\n",
        "        player_list = f'[{\", \".join(player_list)}]'\n",
        "        return ast.literal_eval(player_list)\n",
        "\n",
        "def normalize_text(text):\n",
        "    text = text.lower().strip()\n",
        "    text = ''.join(c for c in unicodedata.normalize('NFD', text) if unicodedata.category(c) != 'Mn')\n",
        "    return text"
      ],
      "metadata": {
        "id": "rY-PloYK-8U9"
      },
      "execution_count": 53,
      "outputs": []
    },
    {
      "cell_type": "code",
      "source": [
        "for match in matches_data:\n",
        "    match['home_team'] = normalize_team_name(match['home_team'])\n",
        "    match['away_team'] = normalize_team_name(match['away_team'])\n",
        "\n",
        "clubs['team'] = clubs['team'].apply(normalize_team_name)\n",
        "national['team'] = national['team'].apply(normalize_team_name)\n",
        "\n",
        "clubs_team_to_players = {row['team']: fix_players_list(row['players']) for index, row in clubs.iterrows()}\n",
        "national_team_to_playes = {row['team']: fix_players_list(row['players']) for index, row in national.iterrows()}\n",
        "team_to_players = {**clubs_team_to_players, **national_team_to_playes}\n",
        "\n",
        "list(team_to_players.items())[0] # lets see the first item in the dict"
      ],
      "metadata": {
        "colab": {
          "base_uri": "https://localhost:8080/"
        },
        "id": "8CQwarjJEiNW",
        "outputId": "d3cbec30-7137-446b-ef38-5466d762f12e"
      },
      "execution_count": 38,
      "outputs": [
        {
          "output_type": "execute_result",
          "data": {
            "text/plain": [
              "('bsc young boys',\n",
              " ['Meschack Elia',\n",
              "  'Aurèle Amenda',\n",
              "  'Filip Ugrinic',\n",
              "  'Kastriot Imeri',\n",
              "  'Joel Mvuka',\n",
              "  'Darian Males',\n",
              "  'Mohamed Camara',\n",
              "  'Cheikh Niasse',\n",
              "  'Cedric Itten',\n",
              "  'Joël Monteiro',\n",
              "  'Ebrima Colley'])"
            ]
          },
          "metadata": {},
          "execution_count": 38
        }
      ]
    },
    {
      "cell_type": "code",
      "source": [
        "for match in matches_data:\n",
        "    match['home_team'] = normalize_team_name(match['home_team'])\n",
        "    match['away_team'] = normalize_team_name(match['away_team'])\n",
        "\n",
        "\n",
        "for match in matches_data:\n",
        "    home_team = match['home_team']\n",
        "    away_team = match['away_team']\n",
        "\n",
        "    ### assigning players to the home team & away team ###\n",
        "    if home_team in team_to_players:\n",
        "        for i in range(1, min(12, len(team_to_players[home_team]) + 1)):\n",
        "            match[f'home_team_p{i}'] = team_to_players[home_team][i-1]\n",
        "\n",
        "    if away_team in team_to_players:\n",
        "        for i in range(1, min(12, len(team_to_players[away_team]) + 1)):\n",
        "            match[f'away_team_p{i}'] = team_to_players[away_team][i-1]\n",
        "with open(\"matches_with_players.json\", \"w\", encoding='utf-8') as file:\n",
        "    json.dump(matches_data, file, ensure_ascii=False, indent=4)\n",
        "\n",
        "##=======================================##\n",
        "print(matches_data[-1])\n",
        "print(matches_data[0])"
      ],
      "metadata": {
        "colab": {
          "base_uri": "https://localhost:8080/"
        },
        "id": "kpk0k39SBxY8",
        "outputId": "820533ad-1734-440a-fac2-c3b423660f2d"
      },
      "execution_count": 39,
      "outputs": [
        {
          "output_type": "stream",
          "name": "stdout",
          "text": [
            "{'home_team': 'netherlands', 'away_team': 'spain', 'home_team_score': 0, 'away_team_score': 0, 'match_type': 'country', 'home_team_p1': 'Xavi Simons', 'home_team_p2': 'Frenkie de Jong', 'home_team_p3': 'Matthijs de Ligt', 'home_team_p4': 'Cody Gakpo', 'home_team_p5': 'Jeremie Frimpong', 'home_team_p6': 'Micky van de Ven', 'home_team_p7': 'Nathan Aké', 'home_team_p8': 'Donyell Malen', 'home_team_p9': 'Teun Koopmeiners', 'home_team_p10': 'Ryan Gravenberch', 'home_team_p11': 'Virgil van Dijk', 'away_team_p1': 'Rodri', 'away_team_p2': 'Lamine Yamal', 'away_team_p3': 'Dani Olmo', 'away_team_p4': 'Mikel Merino', 'away_team_p5': 'Mikel Oyarzabal', 'away_team_p6': 'Martín Zubimendi', 'away_team_p7': 'Nico Williams', 'away_team_p8': 'Alejandro Grimaldo', 'away_team_p9': 'Pedro Porro', 'away_team_p10': 'Robin Le Normand', 'away_team_p11': 'David Raya'}\n",
            "{'home_team': 'atletico de madrid', 'away_team': 'inter milan', 'home_team_score': 5, 'away_team_score': 5, 'match_type': 'club', 'home_team_p1': 'Nahuel Molina', 'home_team_p2': 'Jan Oblak', 'home_team_p3': 'Rodrigo de Paul', 'home_team_p4': 'Marcos Llorente', 'home_team_p5': 'Arthur Vermeeren', 'home_team_p6': 'Antoine Griezmann', 'home_team_p7': 'José María Giménez', 'home_team_p8': 'Mario Hermoso', 'home_team_p9': 'Rodrigo Riquelme', 'home_team_p10': 'Samuel Lino', 'home_team_p11': 'Pablo Barrios', 'away_team_p1': 'Lautaro Martínez', 'away_team_p2': 'Nicolò Barella', 'away_team_p3': 'Alessandro Bastoni', 'away_team_p4': 'Marcus Thuram', 'away_team_p5': 'Federico Dimarco', 'away_team_p6': 'Benjamin Pavard', 'away_team_p7': 'Hakan Çalhanoğlu', 'away_team_p8': 'Davide Frattesi', 'away_team_p9': 'Denzel Dumfries', 'away_team_p10': 'Carlos Augusto', 'away_team_p11': 'Kristjan Asllani'}\n"
          ]
        }
      ]
    },
    {
      "cell_type": "code",
      "source": [
        "with open('matches_with_players.json', 'r', encoding='utf-8') as file:\n",
        "    matches = json.load(file)"
      ],
      "metadata": {
        "id": "e0iJscqXBxVu"
      },
      "execution_count": 61,
      "outputs": []
    },
    {
      "cell_type": "markdown",
      "source": [
        "Awesome! Now let's get the player ratings.\n",
        "- First we have to normalize the names of players in both datasets\n",
        "- Then we will use fuzzy matching so in this way we can map the names and their corresponding ratings"
      ],
      "metadata": {
        "id": "FGTHluasI-lg"
      }
    },
    {
      "cell_type": "code",
      "source": [
        "ratings['name'] = ratings['name'].apply(normalize_text)\n",
        "ratings['full_name'] = ratings['full_name'].apply(normalize_text)"
      ],
      "metadata": {
        "id": "VSY1ImOWBxRG"
      },
      "execution_count": 48,
      "outputs": []
    },
    {
      "cell_type": "code",
      "source": [
        "name_to_rating = pd.Series(ratings.overall_rating.values, index=ratings.name).to_dict()\n",
        "fullname_to_rating = pd.Series(ratings.overall_rating.values, index=ratings.full_name).to_dict()"
      ],
      "metadata": {
        "id": "AyOXNYw1BxGX"
      },
      "execution_count": 49,
      "outputs": []
    },
    {
      "cell_type": "code",
      "source": [
        "for match in matches:\n",
        "  for i in range(1, 12):\n",
        "    if f'home_team_p{i}' in match:\n",
        "      match[f'home_team_p{i}'] = normalize_text(match[f'home_team_p{i}'])\n",
        "      if f'away_team_p{i}' in match:\n",
        "        match[f'away_team_p{i}'] = normalize_text(match[f'away_team_p{i}'])"
      ],
      "metadata": {
        "id": "wsAErBp0Qi8q"
      },
      "execution_count": 62,
      "outputs": []
    },
    {
      "cell_type": "code",
      "source": [
        "@lru_cache(maxsize=None)\n",
        "def get_ratings(player_name):\n",
        "    best_match = process.extractOne(player_name, name_to_rating.keys(), scorer=fuzz.WRatio, score_cutoff=90)\n",
        "    best_full_match = process.extractOne(player_name, fullname_to_rating.keys(), scorer=fuzz.WRatio, score_cutoff=90)\n",
        "    if best_match and best_full_match:\n",
        "        if best_match[1] >= best_full_match[1]:\n",
        "            return name_to_rating[best_match[0]]\n",
        "        else:\n",
        "            return fullname_to_rating[best_full_match[0]]\n",
        "    elif best_match:\n",
        "        return name_to_rating[best_match[0]]\n",
        "    elif best_full_match:\n",
        "        return fullname_to_rating[best_full_match[0]]\n",
        "    return None\n",
        "\n",
        "def process_match(match):\n",
        "    for i in range(1, 12):\n",
        "        home_player_key = f'home_team_p{i}'\n",
        "        away_player_key = f'away_team_p{i}'\n",
        "        if home_player_key in match:\n",
        "            rating = get_ratings(match[home_player_key])\n",
        "            if rating:\n",
        "                match[f'{home_player_key}_rating'] = rating\n",
        "        if away_player_key in match:\n",
        "            rating = get_ratings(match[away_player_key])\n",
        "            if rating:\n",
        "                match[f'{away_player_key}_rating'] = rating\n",
        "    return match\n",
        "matches = [process_match(match) for match in matches]\n",
        "with open('football_matches_dataset_v1.json', 'w', encoding='utf-8') as file:\n",
        "    json.dump(matches, file, ensure_ascii=False, indent=4)\n",
        "\n",
        "print(matches[0])\n",
        "print(matches[-1])"
      ],
      "metadata": {
        "colab": {
          "base_uri": "https://localhost:8080/"
        },
        "id": "H25Y6S3YRLQe",
        "outputId": "1651fe33-c38b-45f9-9c7f-10c1b5c910ae"
      },
      "execution_count": 63,
      "outputs": [
        {
          "output_type": "stream",
          "name": "stdout",
          "text": [
            "{'home_team': 'atletico de madrid', 'away_team': 'inter milan', 'home_team_score': 5, 'away_team_score': 5, 'match_type': 'club', 'home_team_p1': 'nahuel molina', 'home_team_p2': 'jan oblak', 'home_team_p3': 'rodrigo de paul', 'home_team_p4': 'marcos llorente', 'home_team_p5': 'arthur vermeeren', 'home_team_p6': 'antoine griezmann', 'home_team_p7': 'jose maria gimenez', 'home_team_p8': 'mario hermoso', 'home_team_p9': 'rodrigo riquelme', 'home_team_p10': 'samuel lino', 'home_team_p11': 'pablo barrios', 'away_team_p1': 'lautaro martinez', 'away_team_p2': 'nicolo barella', 'away_team_p3': 'alessandro bastoni', 'away_team_p4': 'marcus thuram', 'away_team_p5': 'federico dimarco', 'away_team_p6': 'benjamin pavard', 'away_team_p7': 'hakan calhanoglu', 'away_team_p8': 'davide frattesi', 'away_team_p9': 'denzel dumfries', 'away_team_p10': 'carlos augusto', 'away_team_p11': 'kristjan asllani', 'home_team_p1_rating': 66, 'away_team_p1_rating': 79, 'home_team_p2_rating': 90, 'away_team_p2_rating': 78, 'home_team_p3_rating': 77, 'away_team_p3_rating': 69, 'home_team_p4_rating': 79, 'away_team_p4_rating': 75, 'home_team_p5_rating': 82, 'away_team_p5_rating': 64, 'home_team_p6_rating': 89, 'away_team_p6_rating': 79, 'home_team_p7_rating': 70, 'away_team_p7_rating': 80, 'home_team_p8_rating': 77, 'away_team_p8_rating': 66, 'home_team_p9_rating': 70, 'away_team_p9_rating': 76, 'home_team_p10_rating': 62, 'away_team_p10_rating': 66, 'home_team_p11_rating': 77}\n",
            "{'home_team': 'netherlands', 'away_team': 'spain', 'home_team_score': 0, 'away_team_score': 0, 'match_type': 'country', 'home_team_p1': 'xavi simons', 'home_team_p2': 'frenkie de jong', 'home_team_p3': 'matthijs de ligt', 'home_team_p4': 'cody gakpo', 'home_team_p5': 'jeremie frimpong', 'home_team_p6': 'micky van de ven', 'home_team_p7': 'nathan ake', 'home_team_p8': 'donyell malen', 'home_team_p9': 'teun koopmeiners', 'home_team_p10': 'ryan gravenberch', 'home_team_p11': 'virgil van dijk', 'away_team_p1': 'rodri', 'away_team_p2': 'lamine yamal', 'away_team_p3': 'dani olmo', 'away_team_p4': 'mikel merino', 'away_team_p5': 'mikel oyarzabal', 'away_team_p6': 'martin zubimendi', 'away_team_p7': 'nico williams', 'away_team_p8': 'alejandro grimaldo', 'away_team_p9': 'pedro porro', 'away_team_p10': 'robin le normand', 'away_team_p11': 'david raya', 'away_team_p1_rating': 70, 'home_team_p2_rating': 82, 'home_team_p3_rating': 83, 'away_team_p3_rating': 76, 'away_team_p4_rating': 75, 'away_team_p5_rating': 80, 'away_team_p6_rating': 75, 'home_team_p7_rating': 80, 'away_team_p7_rating': 74, 'home_team_p8_rating': 72, 'away_team_p8_rating': 82, 'home_team_p9_rating': 74, 'away_team_p9_rating': 72, 'away_team_p10_rating': 67, 'home_team_p11_rating': 88, 'away_team_p11_rating': 71}\n"
          ]
        }
      ]
    },
    {
      "cell_type": "markdown",
      "source": [
        "## **1.2 Data Cleaning Stage**"
      ],
      "metadata": {
        "id": "98_spv0ATYf7"
      }
    },
    {
      "cell_type": "markdown",
      "source": [
        "We will clean our data using this strategy:\n",
        " 1. Handling missing values by imputing the mean rating for missing player ratings.\n",
        "\n",
        "\n",
        "\n",
        "\n",
        "\n",
        "\n"
      ],
      "metadata": {
        "id": "cl18ezNfa6jD"
      }
    },
    {
      "cell_type": "code",
      "source": [
        "with open('football_matches_dataset_v1.json', 'r', encoding='utf-8') as file:\n",
        "    data = json.load(file)\n",
        "\n",
        "df = pd.json_normalize(data)\n",
        "df.head()"
      ],
      "metadata": {
        "colab": {
          "base_uri": "https://localhost:8080/",
          "height": 342
        },
        "id": "Yo-pwNItTYJ8",
        "outputId": "75d78c9d-3f7e-4b71-ee74-52ad1db58b3d"
      },
      "execution_count": 66,
      "outputs": [
        {
          "output_type": "execute_result",
          "data": {
            "text/plain": [
              "            home_team      away_team  home_team_score  away_team_score  \\\n",
              "0  atletico de madrid    inter milan              5.0              5.0   \n",
              "1   borussia dortmund  psv eindhoven              2.0              2.0   \n",
              "2        fc barcelona     ssc napoli              3.0              3.0   \n",
              "3          arsenal fc       fc porto              4.0              4.0   \n",
              "4         real madrid     rb leipzig              1.0              1.0   \n",
              "\n",
              "  match_type     home_team_p1     home_team_p2       home_team_p3  \\\n",
              "0       club    nahuel molina        jan oblak    rodrigo de paul   \n",
              "1       club    julian brandt     gregor kobel      donyell malen   \n",
              "2       club             gavi            pedri       lamine yamal   \n",
              "3       club      bukayo saka      declan rice    martin ødegaard   \n",
              "4       club  jude bellingham  vinicius junior  federico valverde   \n",
              "\n",
              "         home_team_p4         home_team_p5  ... home_team_p7_rating  \\\n",
              "0     marcos llorente     arthur vermeeren  ...                70.0   \n",
              "1  nico schlotterbeck          ian maatsen  ...                 NaN   \n",
              "2     frenkie de jong        ronald araujo  ...                75.0   \n",
              "3      william saliba   gabriel martinelli  ...                78.0   \n",
              "4             rodrygo  aurelien tchouameni  ...                79.0   \n",
              "\n",
              "  away_team_p7_rating home_team_p8_rating away_team_p8_rating  \\\n",
              "0                80.0                77.0                66.0   \n",
              "1                 NaN                79.0                54.0   \n",
              "2                52.0                80.0                69.0   \n",
              "3                87.0                81.0                73.0   \n",
              "4                76.0                69.0                70.0   \n",
              "\n",
              "  home_team_p9_rating away_team_p9_rating home_team_p10_rating  \\\n",
              "0                70.0                76.0                 62.0   \n",
              "1                62.0                 NaN                  NaN   \n",
              "2                61.0                73.0                  NaN   \n",
              "3                61.0                 NaN                 74.0   \n",
              "4                89.0                76.0                 63.0   \n",
              "\n",
              "  away_team_p10_rating home_team_p11_rating away_team_p11_rating  \n",
              "0                 66.0                 77.0                  NaN  \n",
              "1                 63.0                 84.0                  NaN  \n",
              "2                 65.0                 73.0                 70.0  \n",
              "3                 79.0                  NaN                 61.0  \n",
              "4                 60.0                 82.0                 66.0  \n",
              "\n",
              "[5 rows x 49 columns]"
            ],
            "text/html": [
              "\n",
              "  <div id=\"df-40fece94-835b-48b9-938b-24b981e7a7c4\" class=\"colab-df-container\">\n",
              "    <div>\n",
              "<style scoped>\n",
              "    .dataframe tbody tr th:only-of-type {\n",
              "        vertical-align: middle;\n",
              "    }\n",
              "\n",
              "    .dataframe tbody tr th {\n",
              "        vertical-align: top;\n",
              "    }\n",
              "\n",
              "    .dataframe thead th {\n",
              "        text-align: right;\n",
              "    }\n",
              "</style>\n",
              "<table border=\"1\" class=\"dataframe\">\n",
              "  <thead>\n",
              "    <tr style=\"text-align: right;\">\n",
              "      <th></th>\n",
              "      <th>home_team</th>\n",
              "      <th>away_team</th>\n",
              "      <th>home_team_score</th>\n",
              "      <th>away_team_score</th>\n",
              "      <th>match_type</th>\n",
              "      <th>home_team_p1</th>\n",
              "      <th>home_team_p2</th>\n",
              "      <th>home_team_p3</th>\n",
              "      <th>home_team_p4</th>\n",
              "      <th>home_team_p5</th>\n",
              "      <th>...</th>\n",
              "      <th>home_team_p7_rating</th>\n",
              "      <th>away_team_p7_rating</th>\n",
              "      <th>home_team_p8_rating</th>\n",
              "      <th>away_team_p8_rating</th>\n",
              "      <th>home_team_p9_rating</th>\n",
              "      <th>away_team_p9_rating</th>\n",
              "      <th>home_team_p10_rating</th>\n",
              "      <th>away_team_p10_rating</th>\n",
              "      <th>home_team_p11_rating</th>\n",
              "      <th>away_team_p11_rating</th>\n",
              "    </tr>\n",
              "  </thead>\n",
              "  <tbody>\n",
              "    <tr>\n",
              "      <th>0</th>\n",
              "      <td>atletico de madrid</td>\n",
              "      <td>inter milan</td>\n",
              "      <td>5.0</td>\n",
              "      <td>5.0</td>\n",
              "      <td>club</td>\n",
              "      <td>nahuel molina</td>\n",
              "      <td>jan oblak</td>\n",
              "      <td>rodrigo de paul</td>\n",
              "      <td>marcos llorente</td>\n",
              "      <td>arthur vermeeren</td>\n",
              "      <td>...</td>\n",
              "      <td>70.0</td>\n",
              "      <td>80.0</td>\n",
              "      <td>77.0</td>\n",
              "      <td>66.0</td>\n",
              "      <td>70.0</td>\n",
              "      <td>76.0</td>\n",
              "      <td>62.0</td>\n",
              "      <td>66.0</td>\n",
              "      <td>77.0</td>\n",
              "      <td>NaN</td>\n",
              "    </tr>\n",
              "    <tr>\n",
              "      <th>1</th>\n",
              "      <td>borussia dortmund</td>\n",
              "      <td>psv eindhoven</td>\n",
              "      <td>2.0</td>\n",
              "      <td>2.0</td>\n",
              "      <td>club</td>\n",
              "      <td>julian brandt</td>\n",
              "      <td>gregor kobel</td>\n",
              "      <td>donyell malen</td>\n",
              "      <td>nico schlotterbeck</td>\n",
              "      <td>ian maatsen</td>\n",
              "      <td>...</td>\n",
              "      <td>NaN</td>\n",
              "      <td>NaN</td>\n",
              "      <td>79.0</td>\n",
              "      <td>54.0</td>\n",
              "      <td>62.0</td>\n",
              "      <td>NaN</td>\n",
              "      <td>NaN</td>\n",
              "      <td>63.0</td>\n",
              "      <td>84.0</td>\n",
              "      <td>NaN</td>\n",
              "    </tr>\n",
              "    <tr>\n",
              "      <th>2</th>\n",
              "      <td>fc barcelona</td>\n",
              "      <td>ssc napoli</td>\n",
              "      <td>3.0</td>\n",
              "      <td>3.0</td>\n",
              "      <td>club</td>\n",
              "      <td>gavi</td>\n",
              "      <td>pedri</td>\n",
              "      <td>lamine yamal</td>\n",
              "      <td>frenkie de jong</td>\n",
              "      <td>ronald araujo</td>\n",
              "      <td>...</td>\n",
              "      <td>75.0</td>\n",
              "      <td>52.0</td>\n",
              "      <td>80.0</td>\n",
              "      <td>69.0</td>\n",
              "      <td>61.0</td>\n",
              "      <td>73.0</td>\n",
              "      <td>NaN</td>\n",
              "      <td>65.0</td>\n",
              "      <td>73.0</td>\n",
              "      <td>70.0</td>\n",
              "    </tr>\n",
              "    <tr>\n",
              "      <th>3</th>\n",
              "      <td>arsenal fc</td>\n",
              "      <td>fc porto</td>\n",
              "      <td>4.0</td>\n",
              "      <td>4.0</td>\n",
              "      <td>club</td>\n",
              "      <td>bukayo saka</td>\n",
              "      <td>declan rice</td>\n",
              "      <td>martin ødegaard</td>\n",
              "      <td>william saliba</td>\n",
              "      <td>gabriel martinelli</td>\n",
              "      <td>...</td>\n",
              "      <td>78.0</td>\n",
              "      <td>87.0</td>\n",
              "      <td>81.0</td>\n",
              "      <td>73.0</td>\n",
              "      <td>61.0</td>\n",
              "      <td>NaN</td>\n",
              "      <td>74.0</td>\n",
              "      <td>79.0</td>\n",
              "      <td>NaN</td>\n",
              "      <td>61.0</td>\n",
              "    </tr>\n",
              "    <tr>\n",
              "      <th>4</th>\n",
              "      <td>real madrid</td>\n",
              "      <td>rb leipzig</td>\n",
              "      <td>1.0</td>\n",
              "      <td>1.0</td>\n",
              "      <td>club</td>\n",
              "      <td>jude bellingham</td>\n",
              "      <td>vinicius junior</td>\n",
              "      <td>federico valverde</td>\n",
              "      <td>rodrygo</td>\n",
              "      <td>aurelien tchouameni</td>\n",
              "      <td>...</td>\n",
              "      <td>79.0</td>\n",
              "      <td>76.0</td>\n",
              "      <td>69.0</td>\n",
              "      <td>70.0</td>\n",
              "      <td>89.0</td>\n",
              "      <td>76.0</td>\n",
              "      <td>63.0</td>\n",
              "      <td>60.0</td>\n",
              "      <td>82.0</td>\n",
              "      <td>66.0</td>\n",
              "    </tr>\n",
              "  </tbody>\n",
              "</table>\n",
              "<p>5 rows × 49 columns</p>\n",
              "</div>\n",
              "    <div class=\"colab-df-buttons\">\n",
              "\n",
              "  <div class=\"colab-df-container\">\n",
              "    <button class=\"colab-df-convert\" onclick=\"convertToInteractive('df-40fece94-835b-48b9-938b-24b981e7a7c4')\"\n",
              "            title=\"Convert this dataframe to an interactive table.\"\n",
              "            style=\"display:none;\">\n",
              "\n",
              "  <svg xmlns=\"http://www.w3.org/2000/svg\" height=\"24px\" viewBox=\"0 -960 960 960\">\n",
              "    <path d=\"M120-120v-720h720v720H120Zm60-500h600v-160H180v160Zm220 220h160v-160H400v160Zm0 220h160v-160H400v160ZM180-400h160v-160H180v160Zm440 0h160v-160H620v160ZM180-180h160v-160H180v160Zm440 0h160v-160H620v160Z\"/>\n",
              "  </svg>\n",
              "    </button>\n",
              "\n",
              "  <style>\n",
              "    .colab-df-container {\n",
              "      display:flex;\n",
              "      gap: 12px;\n",
              "    }\n",
              "\n",
              "    .colab-df-convert {\n",
              "      background-color: #E8F0FE;\n",
              "      border: none;\n",
              "      border-radius: 50%;\n",
              "      cursor: pointer;\n",
              "      display: none;\n",
              "      fill: #1967D2;\n",
              "      height: 32px;\n",
              "      padding: 0 0 0 0;\n",
              "      width: 32px;\n",
              "    }\n",
              "\n",
              "    .colab-df-convert:hover {\n",
              "      background-color: #E2EBFA;\n",
              "      box-shadow: 0px 1px 2px rgba(60, 64, 67, 0.3), 0px 1px 3px 1px rgba(60, 64, 67, 0.15);\n",
              "      fill: #174EA6;\n",
              "    }\n",
              "\n",
              "    .colab-df-buttons div {\n",
              "      margin-bottom: 4px;\n",
              "    }\n",
              "\n",
              "    [theme=dark] .colab-df-convert {\n",
              "      background-color: #3B4455;\n",
              "      fill: #D2E3FC;\n",
              "    }\n",
              "\n",
              "    [theme=dark] .colab-df-convert:hover {\n",
              "      background-color: #434B5C;\n",
              "      box-shadow: 0px 1px 3px 1px rgba(0, 0, 0, 0.15);\n",
              "      filter: drop-shadow(0px 1px 2px rgba(0, 0, 0, 0.3));\n",
              "      fill: #FFFFFF;\n",
              "    }\n",
              "  </style>\n",
              "\n",
              "    <script>\n",
              "      const buttonEl =\n",
              "        document.querySelector('#df-40fece94-835b-48b9-938b-24b981e7a7c4 button.colab-df-convert');\n",
              "      buttonEl.style.display =\n",
              "        google.colab.kernel.accessAllowed ? 'block' : 'none';\n",
              "\n",
              "      async function convertToInteractive(key) {\n",
              "        const element = document.querySelector('#df-40fece94-835b-48b9-938b-24b981e7a7c4');\n",
              "        const dataTable =\n",
              "          await google.colab.kernel.invokeFunction('convertToInteractive',\n",
              "                                                    [key], {});\n",
              "        if (!dataTable) return;\n",
              "\n",
              "        const docLinkHtml = 'Like what you see? Visit the ' +\n",
              "          '<a target=\"_blank\" href=https://colab.research.google.com/notebooks/data_table.ipynb>data table notebook</a>'\n",
              "          + ' to learn more about interactive tables.';\n",
              "        element.innerHTML = '';\n",
              "        dataTable['output_type'] = 'display_data';\n",
              "        await google.colab.output.renderOutput(dataTable, element);\n",
              "        const docLink = document.createElement('div');\n",
              "        docLink.innerHTML = docLinkHtml;\n",
              "        element.appendChild(docLink);\n",
              "      }\n",
              "    </script>\n",
              "  </div>\n",
              "\n",
              "\n",
              "<div id=\"df-4d59e554-0c48-48f7-89ec-f0851c8b81c9\">\n",
              "  <button class=\"colab-df-quickchart\" onclick=\"quickchart('df-4d59e554-0c48-48f7-89ec-f0851c8b81c9')\"\n",
              "            title=\"Suggest charts\"\n",
              "            style=\"display:none;\">\n",
              "\n",
              "<svg xmlns=\"http://www.w3.org/2000/svg\" height=\"24px\"viewBox=\"0 0 24 24\"\n",
              "     width=\"24px\">\n",
              "    <g>\n",
              "        <path d=\"M19 3H5c-1.1 0-2 .9-2 2v14c0 1.1.9 2 2 2h14c1.1 0 2-.9 2-2V5c0-1.1-.9-2-2-2zM9 17H7v-7h2v7zm4 0h-2V7h2v10zm4 0h-2v-4h2v4z\"/>\n",
              "    </g>\n",
              "</svg>\n",
              "  </button>\n",
              "\n",
              "<style>\n",
              "  .colab-df-quickchart {\n",
              "      --bg-color: #E8F0FE;\n",
              "      --fill-color: #1967D2;\n",
              "      --hover-bg-color: #E2EBFA;\n",
              "      --hover-fill-color: #174EA6;\n",
              "      --disabled-fill-color: #AAA;\n",
              "      --disabled-bg-color: #DDD;\n",
              "  }\n",
              "\n",
              "  [theme=dark] .colab-df-quickchart {\n",
              "      --bg-color: #3B4455;\n",
              "      --fill-color: #D2E3FC;\n",
              "      --hover-bg-color: #434B5C;\n",
              "      --hover-fill-color: #FFFFFF;\n",
              "      --disabled-bg-color: #3B4455;\n",
              "      --disabled-fill-color: #666;\n",
              "  }\n",
              "\n",
              "  .colab-df-quickchart {\n",
              "    background-color: var(--bg-color);\n",
              "    border: none;\n",
              "    border-radius: 50%;\n",
              "    cursor: pointer;\n",
              "    display: none;\n",
              "    fill: var(--fill-color);\n",
              "    height: 32px;\n",
              "    padding: 0;\n",
              "    width: 32px;\n",
              "  }\n",
              "\n",
              "  .colab-df-quickchart:hover {\n",
              "    background-color: var(--hover-bg-color);\n",
              "    box-shadow: 0 1px 2px rgba(60, 64, 67, 0.3), 0 1px 3px 1px rgba(60, 64, 67, 0.15);\n",
              "    fill: var(--button-hover-fill-color);\n",
              "  }\n",
              "\n",
              "  .colab-df-quickchart-complete:disabled,\n",
              "  .colab-df-quickchart-complete:disabled:hover {\n",
              "    background-color: var(--disabled-bg-color);\n",
              "    fill: var(--disabled-fill-color);\n",
              "    box-shadow: none;\n",
              "  }\n",
              "\n",
              "  .colab-df-spinner {\n",
              "    border: 2px solid var(--fill-color);\n",
              "    border-color: transparent;\n",
              "    border-bottom-color: var(--fill-color);\n",
              "    animation:\n",
              "      spin 1s steps(1) infinite;\n",
              "  }\n",
              "\n",
              "  @keyframes spin {\n",
              "    0% {\n",
              "      border-color: transparent;\n",
              "      border-bottom-color: var(--fill-color);\n",
              "      border-left-color: var(--fill-color);\n",
              "    }\n",
              "    20% {\n",
              "      border-color: transparent;\n",
              "      border-left-color: var(--fill-color);\n",
              "      border-top-color: var(--fill-color);\n",
              "    }\n",
              "    30% {\n",
              "      border-color: transparent;\n",
              "      border-left-color: var(--fill-color);\n",
              "      border-top-color: var(--fill-color);\n",
              "      border-right-color: var(--fill-color);\n",
              "    }\n",
              "    40% {\n",
              "      border-color: transparent;\n",
              "      border-right-color: var(--fill-color);\n",
              "      border-top-color: var(--fill-color);\n",
              "    }\n",
              "    60% {\n",
              "      border-color: transparent;\n",
              "      border-right-color: var(--fill-color);\n",
              "    }\n",
              "    80% {\n",
              "      border-color: transparent;\n",
              "      border-right-color: var(--fill-color);\n",
              "      border-bottom-color: var(--fill-color);\n",
              "    }\n",
              "    90% {\n",
              "      border-color: transparent;\n",
              "      border-bottom-color: var(--fill-color);\n",
              "    }\n",
              "  }\n",
              "</style>\n",
              "\n",
              "  <script>\n",
              "    async function quickchart(key) {\n",
              "      const quickchartButtonEl =\n",
              "        document.querySelector('#' + key + ' button');\n",
              "      quickchartButtonEl.disabled = true;  // To prevent multiple clicks.\n",
              "      quickchartButtonEl.classList.add('colab-df-spinner');\n",
              "      try {\n",
              "        const charts = await google.colab.kernel.invokeFunction(\n",
              "            'suggestCharts', [key], {});\n",
              "      } catch (error) {\n",
              "        console.error('Error during call to suggestCharts:', error);\n",
              "      }\n",
              "      quickchartButtonEl.classList.remove('colab-df-spinner');\n",
              "      quickchartButtonEl.classList.add('colab-df-quickchart-complete');\n",
              "    }\n",
              "    (() => {\n",
              "      let quickchartButtonEl =\n",
              "        document.querySelector('#df-4d59e554-0c48-48f7-89ec-f0851c8b81c9 button');\n",
              "      quickchartButtonEl.style.display =\n",
              "        google.colab.kernel.accessAllowed ? 'block' : 'none';\n",
              "    })();\n",
              "  </script>\n",
              "</div>\n",
              "\n",
              "    </div>\n",
              "  </div>\n"
            ],
            "application/vnd.google.colaboratory.intrinsic+json": {
              "type": "dataframe",
              "variable_name": "df"
            }
          },
          "metadata": {},
          "execution_count": 66
        }
      ]
    },
    {
      "cell_type": "code",
      "source": [
        "def impute_missing_ratings(df):\n",
        "    rating_columns = [col for col in df.columns if 'rating' in col]\n",
        "    for col in rating_columns:\n",
        "        df[col] = df.groupby(['home_team'])[col].apply(lambda x: x.fillna(x.mean()))\n",
        "        df[col] = df.groupby(['away_team'])[col].apply(lambda x: x.fillna(x.mean()))\n",
        "    return df\n",
        "\n",
        "df = impute_missing_ratings(df)"
      ],
      "metadata": {
        "id": "kUh9fX7cazDm"
      },
      "execution_count": 67,
      "outputs": []
    },
    {
      "cell_type": "markdown",
      "source": [
        "## **1.3 Feature Engineering Stage**\n",
        "\n",
        "1. team-level features by aggregating player ratings.\n",
        "2. average ratings for each team for use in predictions.\n",
        "\n",
        "\n"
      ],
      "metadata": {
        "id": "s5imaFtBb3eT"
      }
    },
    {
      "cell_type": "code",
      "source": [
        "def aggregate_team_ratings(df):\n",
        "    home_team_ratings = df.filter(like='home_team_p').filter(like='rating')\n",
        "    away_team_ratings = df.filter(like='away_team_p').filter(like='rating')\n",
        "\n",
        "    df['home_team_avg_rating'] = home_team_ratings.mean(axis=1)\n",
        "    df['away_team_avg_rating'] = away_team_ratings.mean(axis=1)\n",
        "\n",
        "    return df\n",
        "\n",
        "df = aggregate_team_ratings(df)\n",
        "df.to_csv('football_matches_dataset_v2.csv', index=False)"
      ],
      "metadata": {
        "id": "Dz5FVvBeb2C9"
      },
      "execution_count": 70,
      "outputs": []
    },
    {
      "cell_type": "code",
      "source": [
        "home_team_avg_ratings = df.groupby('home_team')['home_team_avg_rating'].mean()\n",
        "away_team_avg_ratings = df.groupby('away_team')['away_team_avg_rating'].mean()\n",
        "\n",
        "### === combining  home and away average ratings into a single df ==== ##\n",
        "team_avg_ratings = pd.concat([home_team_avg_ratings, away_team_avg_ratings], axis=1)\n",
        "team_avg_ratings.columns = ['home_team_avg_rating', 'away_team_avg_rating']\n",
        "team_avg_ratings = team_avg_ratings.fillna(0)\n",
        "\n",
        "team_avg_ratings.to_csv('teams_avg_ratings.csv', index=False) ## so we can use it later for predictions"
      ],
      "metadata": {
        "id": "J1_Tg7EbcKVl"
      },
      "execution_count": 71,
      "outputs": []
    }
  ]
}